{
  "nbformat": 4,
  "nbformat_minor": 0,
  "metadata": {
    "colab": {
      "name": "exploracao_de_dados_categoricos_n_1.ipynb",
      "provenance": [],
      "collapsed_sections": []
    },
    "kernelspec": {
      "name": "python3",
      "display_name": "Python 3"
    }
  },
  "cells": [
    {
      "cell_type": "markdown",
      "metadata": {
        "id": "5KMbnuT5idDq"
      },
      "source": [
        "# Análises exploratórias em dados categóricos nº1\n",
        "\n",
        "Realizei análises exploratórias em valores categóricos de um Dataset do Kaggle. Esse Dataset possui diversas informações sobre \"carros usados\".\n",
        "\n",
        "Fonte dos dados: https://www.kaggle.com/nehalbirla/vehicle-dataset-from-cardekho"
      ]
    },
    {
      "cell_type": "markdown",
      "metadata": {
        "id": "OwW2azRrExct"
      },
      "source": [
        "Para essas análises exploratórias tive como objetivo:\n",
        "\n",
        "1 - Identificar quais os tipos de valores que há em um conjunto de dados categóricos. A variável categórica escolhida foi \"tipo_combustivel\";\n",
        "\n",
        "2 - Descobrir quais são os valores únicos dentro de \"tipo_combustivel\";\n",
        "\n",
        "3 - Descrever quantas vezes cada valor categórico aparece em \"tipo_combustivel\";\n",
        "\n",
        "4 - Revelar quais são os valores de \"Index\", \"Array\" e transformar essa variável categórica em um novo dataframe;\n",
        "\n",
        "5 - Montar um gráfico em barras com valores decrescente para cada tipo de combustível."
      ]
    },
    {
      "cell_type": "markdown",
      "metadata": {
        "id": "9X_7RVPge3pP"
      },
      "source": [
        "*Bibliotecas utilizadas: Pandas, Seaborn"
      ]
    },
    {
      "cell_type": "markdown",
      "metadata": {
        "id": "sElAUY4sWxSZ"
      },
      "source": [
        "Importando o Dataset"
      ]
    },
    {
      "cell_type": "code",
      "metadata": {
        "id": "RZCb59Gto6RO"
      },
      "source": [
        "#Vou utilizar a biblioteca pandas para explorar meu conjunto de dados\n",
        "\n",
        "import pandas as pd"
      ],
      "execution_count": 77,
      "outputs": []
    },
    {
      "cell_type": "code",
      "metadata": {
        "id": "sdFyRFfSjbbD"
      },
      "source": [
        "#Agora vou importar o meu conjunto de dados\n",
        "\n",
        "carros = pd.read_csv(\"car data.csv\")"
      ],
      "execution_count": 78,
      "outputs": []
    },
    {
      "cell_type": "code",
      "metadata": {
        "colab": {
          "base_uri": "https://localhost:8080/",
          "height": 195
        },
        "id": "2lLLIGmNpRmb",
        "outputId": "72b0b9a2-1338-4935-df20-44bc47748e11"
      },
      "source": [
        "#Quero visualizar apenas as cinco primeiras linhas\n",
        "\n",
        "carros.head()"
      ],
      "execution_count": 79,
      "outputs": [
        {
          "output_type": "execute_result",
          "data": {
            "text/html": [
              "<div>\n",
              "<style scoped>\n",
              "    .dataframe tbody tr th:only-of-type {\n",
              "        vertical-align: middle;\n",
              "    }\n",
              "\n",
              "    .dataframe tbody tr th {\n",
              "        vertical-align: top;\n",
              "    }\n",
              "\n",
              "    .dataframe thead th {\n",
              "        text-align: right;\n",
              "    }\n",
              "</style>\n",
              "<table border=\"1\" class=\"dataframe\">\n",
              "  <thead>\n",
              "    <tr style=\"text-align: right;\">\n",
              "      <th></th>\n",
              "      <th>Car_Name</th>\n",
              "      <th>Year</th>\n",
              "      <th>Selling_Price</th>\n",
              "      <th>Present_Price</th>\n",
              "      <th>Kms_Driven</th>\n",
              "      <th>Fuel_Type</th>\n",
              "      <th>Seller_Type</th>\n",
              "      <th>Transmission</th>\n",
              "      <th>Owner</th>\n",
              "    </tr>\n",
              "  </thead>\n",
              "  <tbody>\n",
              "    <tr>\n",
              "      <th>0</th>\n",
              "      <td>ritz</td>\n",
              "      <td>2014</td>\n",
              "      <td>3.35</td>\n",
              "      <td>5.59</td>\n",
              "      <td>27000</td>\n",
              "      <td>Petrol</td>\n",
              "      <td>Dealer</td>\n",
              "      <td>Manual</td>\n",
              "      <td>0</td>\n",
              "    </tr>\n",
              "    <tr>\n",
              "      <th>1</th>\n",
              "      <td>sx4</td>\n",
              "      <td>2013</td>\n",
              "      <td>4.75</td>\n",
              "      <td>9.54</td>\n",
              "      <td>43000</td>\n",
              "      <td>Diesel</td>\n",
              "      <td>Dealer</td>\n",
              "      <td>Manual</td>\n",
              "      <td>0</td>\n",
              "    </tr>\n",
              "    <tr>\n",
              "      <th>2</th>\n",
              "      <td>ciaz</td>\n",
              "      <td>2017</td>\n",
              "      <td>7.25</td>\n",
              "      <td>9.85</td>\n",
              "      <td>6900</td>\n",
              "      <td>Petrol</td>\n",
              "      <td>Dealer</td>\n",
              "      <td>Manual</td>\n",
              "      <td>0</td>\n",
              "    </tr>\n",
              "    <tr>\n",
              "      <th>3</th>\n",
              "      <td>wagon r</td>\n",
              "      <td>2011</td>\n",
              "      <td>2.85</td>\n",
              "      <td>4.15</td>\n",
              "      <td>5200</td>\n",
              "      <td>Petrol</td>\n",
              "      <td>Dealer</td>\n",
              "      <td>Manual</td>\n",
              "      <td>0</td>\n",
              "    </tr>\n",
              "    <tr>\n",
              "      <th>4</th>\n",
              "      <td>swift</td>\n",
              "      <td>2014</td>\n",
              "      <td>4.60</td>\n",
              "      <td>6.87</td>\n",
              "      <td>42450</td>\n",
              "      <td>Diesel</td>\n",
              "      <td>Dealer</td>\n",
              "      <td>Manual</td>\n",
              "      <td>0</td>\n",
              "    </tr>\n",
              "  </tbody>\n",
              "</table>\n",
              "</div>"
            ],
            "text/plain": [
              "  Car_Name  Year  Selling_Price  ...  Seller_Type  Transmission Owner\n",
              "0     ritz  2014           3.35  ...       Dealer        Manual     0\n",
              "1      sx4  2013           4.75  ...       Dealer        Manual     0\n",
              "2     ciaz  2017           7.25  ...       Dealer        Manual     0\n",
              "3  wagon r  2011           2.85  ...       Dealer        Manual     0\n",
              "4    swift  2014           4.60  ...       Dealer        Manual     0\n",
              "\n",
              "[5 rows x 9 columns]"
            ]
          },
          "metadata": {
            "tags": []
          },
          "execution_count": 79
        }
      ]
    },
    {
      "cell_type": "code",
      "metadata": {
        "colab": {
          "base_uri": "https://localhost:8080/"
        },
        "id": "BaTt3Djwk0dK",
        "outputId": "0bf8e2ff-a0d9-4e6a-cc50-408d7331eb2c"
      },
      "source": [
        "#Checando quantas linhas e quantas colunas há no Dataset?\n",
        "\n",
        "carros.shape"
      ],
      "execution_count": 80,
      "outputs": [
        {
          "output_type": "execute_result",
          "data": {
            "text/plain": [
              "(301, 9)"
            ]
          },
          "metadata": {
            "tags": []
          },
          "execution_count": 80
        }
      ]
    },
    {
      "cell_type": "code",
      "metadata": {
        "colab": {
          "base_uri": "https://localhost:8080/",
          "height": 195
        },
        "id": "OIUbNChYlE_m",
        "outputId": "3dbfe3eb-153c-4934-9563-6872da806357"
      },
      "source": [
        "#Vou alterar o nome das colunas para nomes em portugues\n",
        "\n",
        "carros.columns = \"nome_do_carro\", \"ano\",\t\"preco_de_venda\" , \"preco_atual\" ,\t\"km_dirigidos\",\t\"tipo_combustivel\" ,\t\"tipo_do_vendedor\"\t, \"transmissao\", \"dono\"\n",
        "carros.head()"
      ],
      "execution_count": 81,
      "outputs": [
        {
          "output_type": "execute_result",
          "data": {
            "text/html": [
              "<div>\n",
              "<style scoped>\n",
              "    .dataframe tbody tr th:only-of-type {\n",
              "        vertical-align: middle;\n",
              "    }\n",
              "\n",
              "    .dataframe tbody tr th {\n",
              "        vertical-align: top;\n",
              "    }\n",
              "\n",
              "    .dataframe thead th {\n",
              "        text-align: right;\n",
              "    }\n",
              "</style>\n",
              "<table border=\"1\" class=\"dataframe\">\n",
              "  <thead>\n",
              "    <tr style=\"text-align: right;\">\n",
              "      <th></th>\n",
              "      <th>nome_do_carro</th>\n",
              "      <th>ano</th>\n",
              "      <th>preco_de_venda</th>\n",
              "      <th>preco_atual</th>\n",
              "      <th>km_dirigidos</th>\n",
              "      <th>tipo_combustivel</th>\n",
              "      <th>tipo_do_vendedor</th>\n",
              "      <th>transmissao</th>\n",
              "      <th>dono</th>\n",
              "    </tr>\n",
              "  </thead>\n",
              "  <tbody>\n",
              "    <tr>\n",
              "      <th>0</th>\n",
              "      <td>ritz</td>\n",
              "      <td>2014</td>\n",
              "      <td>3.35</td>\n",
              "      <td>5.59</td>\n",
              "      <td>27000</td>\n",
              "      <td>Petrol</td>\n",
              "      <td>Dealer</td>\n",
              "      <td>Manual</td>\n",
              "      <td>0</td>\n",
              "    </tr>\n",
              "    <tr>\n",
              "      <th>1</th>\n",
              "      <td>sx4</td>\n",
              "      <td>2013</td>\n",
              "      <td>4.75</td>\n",
              "      <td>9.54</td>\n",
              "      <td>43000</td>\n",
              "      <td>Diesel</td>\n",
              "      <td>Dealer</td>\n",
              "      <td>Manual</td>\n",
              "      <td>0</td>\n",
              "    </tr>\n",
              "    <tr>\n",
              "      <th>2</th>\n",
              "      <td>ciaz</td>\n",
              "      <td>2017</td>\n",
              "      <td>7.25</td>\n",
              "      <td>9.85</td>\n",
              "      <td>6900</td>\n",
              "      <td>Petrol</td>\n",
              "      <td>Dealer</td>\n",
              "      <td>Manual</td>\n",
              "      <td>0</td>\n",
              "    </tr>\n",
              "    <tr>\n",
              "      <th>3</th>\n",
              "      <td>wagon r</td>\n",
              "      <td>2011</td>\n",
              "      <td>2.85</td>\n",
              "      <td>4.15</td>\n",
              "      <td>5200</td>\n",
              "      <td>Petrol</td>\n",
              "      <td>Dealer</td>\n",
              "      <td>Manual</td>\n",
              "      <td>0</td>\n",
              "    </tr>\n",
              "    <tr>\n",
              "      <th>4</th>\n",
              "      <td>swift</td>\n",
              "      <td>2014</td>\n",
              "      <td>4.60</td>\n",
              "      <td>6.87</td>\n",
              "      <td>42450</td>\n",
              "      <td>Diesel</td>\n",
              "      <td>Dealer</td>\n",
              "      <td>Manual</td>\n",
              "      <td>0</td>\n",
              "    </tr>\n",
              "  </tbody>\n",
              "</table>\n",
              "</div>"
            ],
            "text/plain": [
              "  nome_do_carro   ano  preco_de_venda  ...  tipo_do_vendedor  transmissao dono\n",
              "0          ritz  2014            3.35  ...            Dealer       Manual    0\n",
              "1           sx4  2013            4.75  ...            Dealer       Manual    0\n",
              "2          ciaz  2017            7.25  ...            Dealer       Manual    0\n",
              "3       wagon r  2011            2.85  ...            Dealer       Manual    0\n",
              "4         swift  2014            4.60  ...            Dealer       Manual    0\n",
              "\n",
              "[5 rows x 9 columns]"
            ]
          },
          "metadata": {
            "tags": []
          },
          "execution_count": 81
        }
      ]
    },
    {
      "cell_type": "markdown",
      "metadata": {
        "id": "j63hXVwbXKbX"
      },
      "source": [
        "Objetivo 1 - Identificar quais os tipos de valores que há em um conjunto de dados categóricos. A variável categórica escolhida foi \"tipo_combustivel\";"
      ]
    },
    {
      "cell_type": "code",
      "metadata": {
        "colab": {
          "base_uri": "https://localhost:8080/"
        },
        "id": "FeeI-wGlmHxy",
        "outputId": "c5a9bfde-ddcb-426e-806e-80f421f69f78"
      },
      "source": [
        "carros.tipo_combustivel"
      ],
      "execution_count": 92,
      "outputs": [
        {
          "output_type": "execute_result",
          "data": {
            "text/plain": [
              "0      Petrol\n",
              "1      Diesel\n",
              "2      Petrol\n",
              "3      Petrol\n",
              "4      Diesel\n",
              "        ...  \n",
              "296    Diesel\n",
              "297    Petrol\n",
              "298    Petrol\n",
              "299    Diesel\n",
              "300    Petrol\n",
              "Name: tipo_combustivel, Length: 301, dtype: object"
            ]
          },
          "metadata": {
            "tags": []
          },
          "execution_count": 92
        }
      ]
    },
    {
      "cell_type": "markdown",
      "metadata": {
        "id": "fGpMJzR3Xkiz"
      },
      "source": [
        "Objetivo 2 - Descobrir quais são os valores únicos dentro de \"tipo_combustivel\";"
      ]
    },
    {
      "cell_type": "code",
      "metadata": {
        "colab": {
          "base_uri": "https://localhost:8080/"
        },
        "id": "76XyI_djmKaW",
        "outputId": "3336830c-1a76-47ec-bed8-463b4452709b"
      },
      "source": [
        "carros.tipo_combustivel.unique()"
      ],
      "execution_count": 93,
      "outputs": [
        {
          "output_type": "execute_result",
          "data": {
            "text/plain": [
              "array(['Petrol', 'Diesel', 'CNG'], dtype=object)"
            ]
          },
          "metadata": {
            "tags": []
          },
          "execution_count": 93
        }
      ]
    },
    {
      "cell_type": "markdown",
      "metadata": {
        "id": "KIS-7stNXyv1"
      },
      "source": [
        "Objetivo 3 - Descrever quantas vezes cada valor categórico aparece em \"tipo_combustivel\";"
      ]
    },
    {
      "cell_type": "code",
      "metadata": {
        "colab": {
          "base_uri": "https://localhost:8080/"
        },
        "id": "WfGgI5IqPHpG",
        "outputId": "dc0f368a-d7fe-4cac-863b-6f4d0328925a"
      },
      "source": [
        "carros.tipo_combustivel.value_counts()"
      ],
      "execution_count": 94,
      "outputs": [
        {
          "output_type": "execute_result",
          "data": {
            "text/plain": [
              "Petrol    239\n",
              "Diesel     60\n",
              "CNG         2\n",
              "Name: tipo_combustivel, dtype: int64"
            ]
          },
          "metadata": {
            "tags": []
          },
          "execution_count": 94
        }
      ]
    },
    {
      "cell_type": "markdown",
      "metadata": {
        "id": "kprK_XAdYVJ9"
      },
      "source": [
        "Objetivo 4 - Revelar quais são os valores de \"Index\", \"Array\" e transformar essa variável categórica em um novo dataframe;"
      ]
    },
    {
      "cell_type": "code",
      "metadata": {
        "colab": {
          "base_uri": "https://localhost:8080/"
        },
        "id": "CQS8mwzFG_7O",
        "outputId": "ac2a7507-c6ec-445d-81c9-97cc5bfb326d"
      },
      "source": [
        "#Checando valores de \"Index\" e de \"Array\" da variável \"tipo_combustivel\"\n",
        "\n",
        "\n",
        "#Index:\n",
        "\n",
        "carros.tipo_combustivel.value_counts().index"
      ],
      "execution_count": 95,
      "outputs": [
        {
          "output_type": "execute_result",
          "data": {
            "text/plain": [
              "Index(['Petrol', 'Diesel', 'CNG'], dtype='object')"
            ]
          },
          "metadata": {
            "tags": []
          },
          "execution_count": 95
        }
      ]
    },
    {
      "cell_type": "code",
      "metadata": {
        "colab": {
          "base_uri": "https://localhost:8080/"
        },
        "id": "t-dGYPbMIPjA",
        "outputId": "d1a76562-f555-4b37-8131-f1d85cb41351"
      },
      "source": [
        "#Array\n",
        "\n",
        "carros.tipo_combustivel.value_counts().values"
      ],
      "execution_count": 96,
      "outputs": [
        {
          "output_type": "execute_result",
          "data": {
            "text/plain": [
              "array([239,  60,   2])"
            ]
          },
          "metadata": {
            "tags": []
          },
          "execution_count": 96
        }
      ]
    },
    {
      "cell_type": "code",
      "metadata": {
        "id": "_ljJdqFKIcdW",
        "colab": {
          "base_uri": "https://localhost:8080/",
          "height": 136
        },
        "outputId": "59fadec7-90d7-49f5-9a78-1976bfed001e"
      },
      "source": [
        "#Criando um data frame:\n",
        "\n",
        "carros.tipo_combustivel.value_counts().to_frame()"
      ],
      "execution_count": 97,
      "outputs": [
        {
          "output_type": "execute_result",
          "data": {
            "text/html": [
              "<div>\n",
              "<style scoped>\n",
              "    .dataframe tbody tr th:only-of-type {\n",
              "        vertical-align: middle;\n",
              "    }\n",
              "\n",
              "    .dataframe tbody tr th {\n",
              "        vertical-align: top;\n",
              "    }\n",
              "\n",
              "    .dataframe thead th {\n",
              "        text-align: right;\n",
              "    }\n",
              "</style>\n",
              "<table border=\"1\" class=\"dataframe\">\n",
              "  <thead>\n",
              "    <tr style=\"text-align: right;\">\n",
              "      <th></th>\n",
              "      <th>tipo_combustivel</th>\n",
              "    </tr>\n",
              "  </thead>\n",
              "  <tbody>\n",
              "    <tr>\n",
              "      <th>Petrol</th>\n",
              "      <td>239</td>\n",
              "    </tr>\n",
              "    <tr>\n",
              "      <th>Diesel</th>\n",
              "      <td>60</td>\n",
              "    </tr>\n",
              "    <tr>\n",
              "      <th>CNG</th>\n",
              "      <td>2</td>\n",
              "    </tr>\n",
              "  </tbody>\n",
              "</table>\n",
              "</div>"
            ],
            "text/plain": [
              "        tipo_combustivel\n",
              "Petrol               239\n",
              "Diesel                60\n",
              "CNG                    2"
            ]
          },
          "metadata": {
            "tags": []
          },
          "execution_count": 97
        }
      ]
    },
    {
      "cell_type": "code",
      "metadata": {
        "colab": {
          "base_uri": "https://localhost:8080/",
          "height": 136
        },
        "id": "kQXNPhF6I5Ju",
        "outputId": "d376c0bb-0284-472e-892b-27c48774b197"
      },
      "source": [
        "#Removendo o index do resultado anterior a fim de criar duas colunas:\n",
        "\n",
        "carros.tipo_combustivel.value_counts().to_frame().reset_index()"
      ],
      "execution_count": 98,
      "outputs": [
        {
          "output_type": "execute_result",
          "data": {
            "text/html": [
              "<div>\n",
              "<style scoped>\n",
              "    .dataframe tbody tr th:only-of-type {\n",
              "        vertical-align: middle;\n",
              "    }\n",
              "\n",
              "    .dataframe tbody tr th {\n",
              "        vertical-align: top;\n",
              "    }\n",
              "\n",
              "    .dataframe thead th {\n",
              "        text-align: right;\n",
              "    }\n",
              "</style>\n",
              "<table border=\"1\" class=\"dataframe\">\n",
              "  <thead>\n",
              "    <tr style=\"text-align: right;\">\n",
              "      <th></th>\n",
              "      <th>index</th>\n",
              "      <th>tipo_combustivel</th>\n",
              "    </tr>\n",
              "  </thead>\n",
              "  <tbody>\n",
              "    <tr>\n",
              "      <th>0</th>\n",
              "      <td>Petrol</td>\n",
              "      <td>239</td>\n",
              "    </tr>\n",
              "    <tr>\n",
              "      <th>1</th>\n",
              "      <td>Diesel</td>\n",
              "      <td>60</td>\n",
              "    </tr>\n",
              "    <tr>\n",
              "      <th>2</th>\n",
              "      <td>CNG</td>\n",
              "      <td>2</td>\n",
              "    </tr>\n",
              "  </tbody>\n",
              "</table>\n",
              "</div>"
            ],
            "text/plain": [
              "    index  tipo_combustivel\n",
              "0  Petrol               239\n",
              "1  Diesel                60\n",
              "2     CNG                 2"
            ]
          },
          "metadata": {
            "tags": []
          },
          "execution_count": 98
        }
      ]
    },
    {
      "cell_type": "code",
      "metadata": {
        "id": "8UyvVxBjJXBn"
      },
      "source": [
        "#Renomeando esse dataframe\n",
        "\n",
        "tipo_de_combustivel = carros.tipo_combustivel.value_counts().to_frame().reset_index()"
      ],
      "execution_count": 99,
      "outputs": []
    },
    {
      "cell_type": "code",
      "metadata": {
        "id": "4j8wgDsMJxyE"
      },
      "source": [
        "#Irei trocar as legendas das colunas por texto em portugues\n",
        "\n",
        "tipo_de_combustivel.columns = ['tipo_de_combustivel', 'quantidade']"
      ],
      "execution_count": 100,
      "outputs": []
    },
    {
      "cell_type": "code",
      "metadata": {
        "colab": {
          "base_uri": "https://localhost:8080/",
          "height": 136
        },
        "id": "0oDbvHinKFd7",
        "outputId": "81d70e96-63cf-4eae-9868-2902ec6d0c8c"
      },
      "source": [
        "tipo_de_combustivel.head()"
      ],
      "execution_count": 101,
      "outputs": [
        {
          "output_type": "execute_result",
          "data": {
            "text/html": [
              "<div>\n",
              "<style scoped>\n",
              "    .dataframe tbody tr th:only-of-type {\n",
              "        vertical-align: middle;\n",
              "    }\n",
              "\n",
              "    .dataframe tbody tr th {\n",
              "        vertical-align: top;\n",
              "    }\n",
              "\n",
              "    .dataframe thead th {\n",
              "        text-align: right;\n",
              "    }\n",
              "</style>\n",
              "<table border=\"1\" class=\"dataframe\">\n",
              "  <thead>\n",
              "    <tr style=\"text-align: right;\">\n",
              "      <th></th>\n",
              "      <th>tipo_de_combustivel</th>\n",
              "      <th>quantidade</th>\n",
              "    </tr>\n",
              "  </thead>\n",
              "  <tbody>\n",
              "    <tr>\n",
              "      <th>0</th>\n",
              "      <td>Petrol</td>\n",
              "      <td>239</td>\n",
              "    </tr>\n",
              "    <tr>\n",
              "      <th>1</th>\n",
              "      <td>Diesel</td>\n",
              "      <td>60</td>\n",
              "    </tr>\n",
              "    <tr>\n",
              "      <th>2</th>\n",
              "      <td>CNG</td>\n",
              "      <td>2</td>\n",
              "    </tr>\n",
              "  </tbody>\n",
              "</table>\n",
              "</div>"
            ],
            "text/plain": [
              "  tipo_de_combustivel  quantidade\n",
              "0              Petrol         239\n",
              "1              Diesel          60\n",
              "2                 CNG           2"
            ]
          },
          "metadata": {
            "tags": []
          },
          "execution_count": 101
        }
      ]
    },
    {
      "cell_type": "markdown",
      "metadata": {
        "id": "GAXtrNe5Z8ks"
      },
      "source": [
        "Objetivo 5 - Montar um gráfico em barras com valores decrescente para cada tipo de combustível.\n"
      ]
    },
    {
      "cell_type": "code",
      "metadata": {
        "id": "BCSivVz3KQBT"
      },
      "source": [
        "#Irei usar um gráfico de barras da biblioteca Seaborn\n",
        "\n",
        "import seaborn as sns"
      ],
      "execution_count": 102,
      "outputs": []
    },
    {
      "cell_type": "code",
      "metadata": {
        "colab": {
          "base_uri": "https://localhost:8080/",
          "height": 300
        },
        "id": "Lfq1v0WvL91d",
        "outputId": "0ffe9e62-c8f5-4f6c-9bb3-d49ca364d77a"
      },
      "source": [
        "#Determinando ao  seaborn quais sãos os parâmetros do eixo x e do eixo y\n",
        "\n",
        "#*Observar que o gráfico abaixo foi gerado a partir desse novo Dataframe criado na linha 71\n",
        "\n",
        "sns.barplot(x = \"tipo_de_combustivel\", y = \"quantidade\", data = tipo_de_combustivel)"
      ],
      "execution_count": 103,
      "outputs": [
        {
          "output_type": "execute_result",
          "data": {
            "text/plain": [
              "<matplotlib.axes._subplots.AxesSubplot at 0x7fd822c7ffd0>"
            ]
          },
          "metadata": {
            "tags": []
          },
          "execution_count": 103
        },
        {
          "output_type": "display_data",
          "data": {
            "image/png": "[encoded data removed]",
            "text/plain": [
              "<Figure size 432x288 with 1 Axes>"
            ]
          },
          "metadata": {
            "tags": [],
            "needs_background": "light"
          }
        }
      ]
    },
    {
      "cell_type": "code",
      "metadata": {
        "colab": {
          "base_uri": "https://localhost:8080/",
          "height": 401
        },
        "id": "YTvCKWKBMfNh",
        "outputId": "3811a20e-a203-4f86-9ff4-0a40fcee505e"
      },
      "source": [
        "#A forma acima é para criar um gráfico de \"baixo nível\", ou seja, possuindo maior quantidade de códigos.\n",
        "\n",
        "#Para fazer um gráfico semelhante, possuindo \"alto nível\", ou seja, que requeira menor quantidade de códigos fiz o seguinte:\n",
        "\n",
        "sns.catplot(x = \"tipo_combustivel\", kind=\"count\", data = carros) # o argumento \"kind=\"count\"\"\" automaticamente contabiliza os valores existentes dentro da variável \"tipo_combustivel\""
      ],
      "execution_count": 104,
      "outputs": [
        {
          "output_type": "execute_result",
          "data": {
            "text/plain": [
              "<seaborn.axisgrid.FacetGrid at 0x7fd822c561d0>"
            ]
          },
          "metadata": {
            "tags": []
          },
          "execution_count": 104
        },
        {
          "output_type": "display_data",
          "data": {
            "image/png": "[encoded data removed]",
            "text/plain": [
              "<Figure size 360x360 with 1 Axes>"
            ]
          },
          "metadata": {
            "tags": [],
            "needs_background": "light"
          }
        }
      ]
    },
    {
      "cell_type": "code",
      "metadata": {
        "id": "Q2jyxa7yhJ-z"
      },
      "source": [
        ""
      ],
      "execution_count": 104,
      "outputs": []
    }
  ]
}